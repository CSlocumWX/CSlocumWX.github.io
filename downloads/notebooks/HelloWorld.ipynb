{
 "metadata": {
  "name": "",
  "signature": "sha256:0044123807a06ad2f4e4b621ea72bda220cb2759ded29bd1adea361f371201bf"
 },
 "nbformat": 3,
 "nbformat_minor": 0,
 "worksheets": [
  {
   "cells": [
    {
     "cell_type": "markdown",
     "metadata": {},
     "source": [
      "# Hello, World!"
     ]
    },
    {
     "cell_type": "markdown",
     "metadata": {},
     "source": [
      "<small>*This notebook originally appeared as a [post](https://cslocumwx.github.io/blog/2015/01/18/aaa-yet-another-coding-blog/) on the blog [Atmospheric Algorithm Anthics](https://cslocumwx.github.io). <span xmlns:dct=\"http://purl.org/dc/terms/\" property=\"dct:title\">Hello, World!</span> by <a xmlns:cc=\"http://creativecommons.org/ns#\" href=\"http://schubert.atmos.colostate.edu/~cslocum/\" property=\"cc:attributionName\" rel=\"cc:attributionURL\">Chris Slocum</a> is licensed under a <a rel=\"license\" href=\"http://creativecommons.org/licenses/by-nc-nd/3.0/deed.en_US\">Creative Commons Attribution-NonCommercial-NoDerivs 3.0 Unported License</a>.*</small>"
     ]
    },
    {
     "cell_type": "code",
     "collapsed": false,
     "input": [
      "print(\"Hello, World!\")"
     ],
     "language": "python",
     "metadata": {},
     "outputs": [
      {
       "output_type": "stream",
       "stream": "stdout",
       "text": [
        "Hello, World!\n"
       ]
      }
     ],
     "prompt_number": 1
    },
    {
     "cell_type": "markdown",
     "metadata": {},
     "source": [
      "<small>\n",
      "This post was written using an IPython notebook.  You can\n",
      "[download](https://cslocumwx.github.io/downloads/notebooks/HelloWorld.ipynb)\n",
      "this notebook, or see a static view\n",
      "[here](http://nbviewer.ipython.org/url/cslocumwx.github.io/downloads/notebooks/HelloWorld.ipynb).\n",
      "</small>"
     ]
    }
   ],
   "metadata": {}
  }
 ]
}